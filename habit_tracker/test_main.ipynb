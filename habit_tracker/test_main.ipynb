{
 "cells": [
  {
   "cell_type": "code",
   "execution_count": 29,
   "id": "777906ea",
   "metadata": {},
   "outputs": [
    {
     "name": "stdout",
     "output_type": "stream",
     "text": [
      "['Eat egg', 'Feed cat']\n"
     ]
    }
   ],
   "source": [
    "habits = []\n",
    "no_habits = int(input(\"How many habits do you want to enter today? (0-10) \"))\n",
    "\n",
    "for h in range(no_habits):\n",
    "    user_habit = input(f\"Enter habits {h + 1}\")\n",
    "    habits.append(user_habit)\n",
    "print(habits)"
   ]
  },
  {
   "cell_type": "code",
   "execution_count": 46,
   "id": "bda05839",
   "metadata": {},
   "outputs": [
    {
     "name": "stdout",
     "output_type": "stream",
     "text": [
      "What habits have you done today? \n",
      "{'Eat egg': True, 'Feed cat': False}\n"
     ]
    }
   ],
   "source": [
    "print(\"What habits have you done today? \")\n",
    "status = {}\n",
    "for n in habits:\n",
    "    question = input(f\"Have you {n}? (Y/N): \").strip().lower()\n",
    "    status[n] = question == 'y'\n",
    "\n",
    "print(status)"
   ]
  },
  {
   "cell_type": "code",
   "execution_count": 62,
   "id": "e32cb651",
   "metadata": {},
   "outputs": [
    {
     "name": "stdout",
     "output_type": "stream",
     "text": [
      "Done: Eat egg\n",
      "Not: Feed cat\n",
      "You have done 1 out of 2 tasks today!\n"
     ]
    }
   ],
   "source": [
    "completed_tasks = 0\n",
    "\n",
    "for n, question in status.items():\n",
    "    if question  == True:\n",
    "        print(f\"Done: {n}\")\n",
    "        completed_tasks = completed_tasks + 1\n",
    "    elif question == False:\n",
    "        print(f\"Not: {n}\")\n",
    "    \n",
    "print(f\"You have done {completed_tasks} out of {no_habits} tasks today!\")"
   ]
  },
  {
   "cell_type": "code",
   "execution_count": null,
   "id": "1d8e7ca8",
   "metadata": {},
   "outputs": [],
   "source": []
  }
 ],
 "metadata": {
  "kernelspec": {
   "display_name": "Python 3",
   "language": "python",
   "name": "python3"
  },
  "language_info": {
   "codemirror_mode": {
    "name": "ipython",
    "version": 3
   },
   "file_extension": ".py",
   "mimetype": "text/x-python",
   "name": "python",
   "nbconvert_exporter": "python",
   "pygments_lexer": "ipython3",
   "version": "3.12.3"
  }
 },
 "nbformat": 4,
 "nbformat_minor": 5
}

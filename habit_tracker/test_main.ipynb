{
 "cells": [
  {
   "cell_type": "code",
   "execution_count": null,
   "id": "777906ea",
   "metadata": {},
   "outputs": [
    {
     "name": "stdout",
     "output_type": "stream",
     "text": [
      "['Drink water', 'Eat food', 'Feed Luli']\n"
     ]
    }
   ],
   "source": [
    "habits = []\n",
    "no_habits = int(input(\"How many habits do you want to enter today? (0-10) \"))\n",
    "\n",
    "for h in range(no_habits):\n",
    "    user_habit = input(f\"Enter habits {h + 1}\")\n",
    "    habits.append(user_habit)\n",
    "\n",
    "print(habits)"
   ]
  },
  {
   "cell_type": "code",
   "execution_count": null,
   "id": "bda05839",
   "metadata": {},
   "outputs": [],
   "source": []
  }
 ],
 "metadata": {
  "kernelspec": {
   "display_name": "Python 3",
   "language": "python",
   "name": "python3"
  },
  "language_info": {
   "codemirror_mode": {
    "name": "ipython",
    "version": 3
   },
   "file_extension": ".py",
   "mimetype": "text/x-python",
   "name": "python",
   "nbconvert_exporter": "python",
   "pygments_lexer": "ipython3",
   "version": "3.12.3"
  }
 },
 "nbformat": 4,
 "nbformat_minor": 5
}

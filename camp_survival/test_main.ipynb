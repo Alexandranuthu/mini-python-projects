{
 "cells": [
  {
   "cell_type": "code",
   "execution_count": null,
   "id": "0a678b0b",
   "metadata": {},
   "outputs": [
    {
     "name": "stdout",
     "output_type": "stream",
     "text": [
      "\n",
      "--------------- Welcome to Camp Survival ---------------\n",
      "\n",
      "You are on day 1\n",
      "So far you are left with \n",
      "\t Food: 20 \n",
      "\t Health: 95 \n",
      "\t Survivors: 25 \n",
      "\t Health: 95\n"
     ]
    }
   ],
   "source": [
    "import random\n",
    "print(\"\\n--------------- Welcome to Camp Survival ---------------\")\n",
    "\n",
    "camp = {\n",
    "    'day': 1,\n",
    "    'food': 20,\n",
    "    'survivors': 25,\n",
    "    'health': 95\n",
    "}\n",
    "\n",
    "def showStatus():\n",
    "    \n",
    "    print(f\"\\nYou are on day {camp['day']}\")\n",
    "    print(f\"So far you are left with \\n\\t Food: {camp['food']} \\n\\t Health: {camp['health']} \\n\\t Survivors: {camp['survivors']} \\n\\t Health: {camp['health']}\")\n",
    "\n",
    "showStatus()"
   ]
  },
  {
   "cell_type": "code",
   "execution_count": null,
   "id": "a61d7048",
   "metadata": {},
   "outputs": [],
   "source": [
    "def gatherfood():\n",
    "\n",
    "    print(\"You have decided to gather food. You need to choose the number of survivors you want to go gather food\")\n",
    "    no_survivors = int(input(\"How many? \"))\n",
    "    food_found = random.choice(range(0,15))\n",
    "    camp['food'] = camp['food'] + food_found\n",
    "    camp['health'] -= 10\n",
    "    print(f\"The {no_survivors} survivors brought back {food_found} food.\\nYou now have {camp['food']}\")\n",
    "    print(f\"You are also left with {camp['health']} \")\n"
   ]
  },
  {
   "cell_type": "code",
   "execution_count": null,
   "id": "c89266b6",
   "metadata": {},
   "outputs": [
    {
     "name": "stdout",
     "output_type": "stream",
     "text": [
      "The people are hungry. It's time to feed them!\n",
      "90\n"
     ]
    }
   ],
   "source": [
    "def rest():\n",
    "    print(\"You have decided to rest.\")\n",
    "    camp['health'] += 5\n",
    "    print(f\"Camp's health is now at {camp['health']}\")\n",
    "    "
   ]
  },
  {
   "cell_type": "code",
   "execution_count": null,
   "id": "a691edad",
   "metadata": {},
   "outputs": [],
   "source": []
  }
 ],
 "metadata": {
  "kernelspec": {
   "display_name": "Python 3",
   "language": "python",
   "name": "python3"
  },
  "language_info": {
   "codemirror_mode": {
    "name": "ipython",
    "version": 3
   },
   "file_extension": ".py",
   "mimetype": "text/x-python",
   "name": "python",
   "nbconvert_exporter": "python",
   "pygments_lexer": "ipython3",
   "version": "3.12.3"
  }
 },
 "nbformat": 4,
 "nbformat_minor": 5
}

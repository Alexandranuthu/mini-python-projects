{
 "cells": [
  {
   "cell_type": "code",
   "execution_count": 2,
   "id": "0a678b0b",
   "metadata": {},
   "outputs": [
    {
     "name": "stdout",
     "output_type": "stream",
     "text": [
      "\n",
      "--------------- Welcome to Camp Survival ---------------\n",
      "\n",
      "You are on day 1\n",
      "So far you are left with \n",
      "\t Food: 20 \n",
      "\t Health: 95 \n",
      "\t Survivors: 25 \n",
      "\t Health: 95\n"
     ]
    }
   ],
   "source": [
    "print(\"\\n--------------- Welcome to Camp Survival ---------------\")\n",
    "\n",
    "camp = {\n",
    "    'day': 1,\n",
    "    'food': 20,\n",
    "    'survivors': 25,\n",
    "    'health': 95\n",
    "}\n",
    "\n",
    "def showStatus():\n",
    "    print(f\"\\nYou are on day {camp['day']}\")\n",
    "    print(f\"So far you are left with \\n\\t Food: {camp['food']} \\n\\t Health: {camp['health']} \\n\\t Survivors: {camp['survivors']} \\n\\t Health: {camp['health']}\")\n",
    "\n",
    "showStatus()"
   ]
  },
  {
   "cell_type": "code",
   "execution_count": null,
   "id": "a61d7048",
   "metadata": {},
   "outputs": [],
   "source": [
    "def gatherfood():\n",
    "    print(\"You have decided to gather food. \\n You need to choose the number of survivors you want to go gather food\")\n",
    "    no_survivors = int(input(\"How many? \"))\n",
    "    "
   ]
  }
 ],
 "metadata": {
  "kernelspec": {
   "display_name": "Python 3",
   "language": "python",
   "name": "python3"
  },
  "language_info": {
   "codemirror_mode": {
    "name": "ipython",
    "version": 3
   },
   "file_extension": ".py",
   "mimetype": "text/x-python",
   "name": "python",
   "nbconvert_exporter": "python",
   "pygments_lexer": "ipython3",
   "version": "3.12.3"
  }
 },
 "nbformat": 4,
 "nbformat_minor": 5
}

{
 "cells": [
  {
   "cell_type": "code",
   "execution_count": null,
   "id": "0a678b0b",
   "metadata": {},
   "outputs": [
    {
     "name": "stdout",
     "output_type": "stream",
     "text": [
      "\n",
      "--------------- Welcome to Camp Survival ---------------\n",
      "\n",
      "You are on day 1\n",
      "So far you are left with \n",
      "\t Food: 20 \n",
      "\t Health: 95 \n",
      "\t Survivors: 25 \n",
      "\t Health: 95\n"
     ]
    }
   ],
   "source": [
    "import random\n",
    "print(\"\\n--------------- Welcome to Camp Survival ---------------\")\n",
    "\n",
    "camp = {\n",
    "    'day': 1,\n",
    "    'food': 20,\n",
    "    'survivors': 25,\n",
    "    'health': 95\n",
    "}\n",
    "\n",
    "def showStatus():\n",
    "    \n",
    "    print(f\"\\nYou are on day {camp['day']}\")\n",
    "    print(f\"So far you are left with \\n\\t Food: {camp['food']} \\n\\t Health: {camp['health']} \\n\\t Survivors: {camp['survivors']} \\n\\t Health: {camp['health']}\")\n",
    "\n",
    "showStatus()"
   ]
  },
  {
   "cell_type": "code",
   "execution_count": null,
   "id": "a61d7048",
   "metadata": {},
   "outputs": [
    {
     "name": "stdout",
     "output_type": "stream",
     "text": [
      "You have decided to gather food. You need to choose the number of survivors you want to go gather food\n",
      "The 3 survivors brought back 1 food.\n",
      "You now have 67 in store\n",
      "You are also left with 90 \n"
     ]
    }
   ],
   "source": [
    "def gatherfood():\n",
    "\n",
    "    print(\"You have decided to gather food. You need to choose the number of survivors you want to go gather food\")\n",
    "    no_survivors = int(input(\"How many? \"))\n",
    "    food_found = random.choice(range(0,15))\n",
    "    camp['food'] = camp['food'] + food_found\n",
    "    camp['health'] -= 10\n",
    "    print(f\"The {no_survivors} survivors brought back {food_found} food.\\nYou now have {camp['food']} in store\")\n",
    "    print(f\"You are also left with {camp['health']} in Camp's health\")\n",
    "\n",
    "gatherfood()\n"
   ]
  },
  {
   "cell_type": "code",
   "execution_count": 31,
   "id": "c89266b6",
   "metadata": {},
   "outputs": [
    {
     "name": "stdout",
     "output_type": "stream",
     "text": [
      "You have decided to rest.\n",
      "Camp's health is now at 95\n"
     ]
    }
   ],
   "source": [
    "def rest():\n",
    "    print(\"You have decided to rest.\")\n",
    "    camp['health'] += 5\n",
    "    print(f\"Camp's health is now at {camp['health']}\")\n",
    "    \n",
    "rest()"
   ]
  },
  {
   "cell_type": "code",
   "execution_count": 49,
   "id": "a691edad",
   "metadata": {},
   "outputs": [
    {
     "name": "stdout",
     "output_type": "stream",
     "text": [
      "You need to feed the people.You have 17 in store\n",
      "You cannot feed others and leave others. For that, Camp's health has dropped to 65\n"
     ]
    }
   ],
   "source": [
    "def feedsurvivors():\n",
    "    print(f\"You need to feed the people.You have {camp['food']} in store\")\n",
    "    if camp['food'] >= camp['survivors']:\n",
    "        divide_food = camp['food'] - camp['survivors']\n",
    "        camp['food'] = divide_food\n",
    "        camp['health'] += 15\n",
    "        print(f\"Camp has eaten. Health has been added: {camp['health']}.\")\n",
    "    else:\n",
    "        camp['health'] -= 15\n",
    "        print(f\"You cannot feed others and leave others. For that, Camp's health has dropped to {camp['health']}\")\n",
    "\n",
    "feedsurvivors()"
   ]
  },
  {
   "cell_type": "code",
   "execution_count": null,
   "id": "40229934",
   "metadata": {},
   "outputs": [
    {
     "name": "stdout",
     "output_type": "stream",
     "text": [
      "\t1. Gather food \n",
      "\t2. Rest \n",
      "\t3.Feed Survivors\n"
     ]
    }
   ],
   "source": [
    "def menu():\n",
    "    print(f\"\\t1. Gather food \\n\\t2. Rest \\n\\t3. Feed Survivors\")"
   ]
  },
  {
   "cell_type": "code",
   "execution_count": null,
   "id": "3b1605e5",
   "metadata": {},
   "outputs": [
    {
     "name": "stdout",
     "output_type": "stream",
     "text": [
      "\n",
      "You are on day 4\n",
      "So far you are left with \n",
      "\t Food: 9 \n",
      "\t Health: 65 \n",
      "\t Survivors: 25 \n",
      "\t Health: 65\n",
      "This is what you can do:\n",
      "\t1. Gather food \n",
      "\t2. Rest \n",
      "\t3.Feed Survivors\n"
     ]
    },
    {
     "name": "stdout",
     "output_type": "stream",
     "text": [
      "You need to feed the people.You have 9 in store\n",
      "You cannot feed others and leave others. For that, Camp's health has dropped to 50\n",
      "\n",
      "You are on day 5\n",
      "So far you are left with \n",
      "\t Food: 9 \n",
      "\t Health: 50 \n",
      "\t Survivors: 25 \n",
      "\t Health: 50\n",
      "This is what you can do:\n",
      "\t1. Gather food \n",
      "\t2. Rest \n",
      "\t3.Feed Survivors\n",
      "You need to feed the people.You have 9 in store\n",
      "You cannot feed others and leave others. For that, Camp's health has dropped to 35\n",
      "\n",
      "You are on day 6\n",
      "So far you are left with \n",
      "\t Food: 9 \n",
      "\t Health: 35 \n",
      "\t Survivors: 25 \n",
      "\t Health: 35\n",
      "This is what you can do:\n",
      "\t1. Gather food \n",
      "\t2. Rest \n",
      "\t3.Feed Survivors\n",
      "You need to feed the people.You have 9 in store\n",
      "You cannot feed others and leave others. For that, Camp's health has dropped to 20\n",
      "\n",
      "You are on day 7\n",
      "So far you are left with \n",
      "\t Food: 9 \n",
      "\t Health: 20 \n",
      "\t Survivors: 25 \n",
      "\t Health: 20\n",
      "This is what you can do:\n",
      "\t1. Gather food \n",
      "\t2. Rest \n",
      "\t3.Feed Survivors\n",
      "You need to feed the people.You have 9 in store\n",
      "You cannot feed others and leave others. For that, Camp's health has dropped to 5\n",
      "\n",
      "You are on day 8\n",
      "So far you are left with \n",
      "\t Food: 9 \n",
      "\t Health: 5 \n",
      "\t Survivors: 25 \n",
      "\t Health: 5\n",
      "This is what you can do:\n",
      "\t1. Gather food \n",
      "\t2. Rest \n",
      "\t3.Feed Survivors\n",
      "You need to feed the people.You have 9 in store\n",
      "You cannot feed others and leave others. For that, Camp's health has dropped to -10\n"
     ]
    }
   ],
   "source": [
    "while camp['health'] >= 0:\n",
    "    showStatus()\n",
    "    print(\"This is what you can do:\")\n",
    "    user_choice = input(f\"Your choice? {menu()}\")\n",
    "\n",
    "    if user_choice == 1:\n",
    "        gatherfood()\n",
    "    elif user_choice == 2:\n",
    "        rest()\n",
    "\n",
    "    feedsurvivors()\n",
    "    camp['day'] += 1\n",
    "print(f\"Damn, Your camp did not survive! Game over?\")"
   ]
  },
  {
   "cell_type": "code",
   "execution_count": null,
   "id": "0e4f92f5",
   "metadata": {},
   "outputs": [],
   "source": []
  }
 ],
 "metadata": {
  "kernelspec": {
   "display_name": "Python 3",
   "language": "python",
   "name": "python3"
  },
  "language_info": {
   "codemirror_mode": {
    "name": "ipython",
    "version": 3
   },
   "file_extension": ".py",
   "mimetype": "text/x-python",
   "name": "python",
   "nbconvert_exporter": "python",
   "pygments_lexer": "ipython3",
   "version": "3.12.3"
  }
 },
 "nbformat": 4,
 "nbformat_minor": 5
}
